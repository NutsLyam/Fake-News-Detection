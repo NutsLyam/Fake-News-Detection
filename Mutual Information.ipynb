{
 "cells": [
  {
   "cell_type": "code",
   "execution_count": 284,
   "metadata": {},
   "outputs": [],
   "source": [
    "import pandas as pd\n",
    "\n",
    "from collections import namedtuple,defaultdict\n",
    "import re\n",
    "import nltk\n",
    "from nltk.corpus import stopwords\n",
    "from nltk.tokenize import sent_tokenize, word_tokenize\n",
    "from tqdm import tqdm_notebook, tqdm\n",
    "import pymorphy2\n",
    "import bisect\n",
    "import math"
   ]
  },
  {
   "cell_type": "code",
   "execution_count": 290,
   "metadata": {},
   "outputs": [
    {
     "data": {
      "text/html": [
       "<div>\n",
       "<style scoped>\n",
       "    .dataframe tbody tr th:only-of-type {\n",
       "        vertical-align: middle;\n",
       "    }\n",
       "\n",
       "    .dataframe tbody tr th {\n",
       "        vertical-align: top;\n",
       "    }\n",
       "\n",
       "    .dataframe thead th {\n",
       "        text-align: right;\n",
       "    }\n",
       "</style>\n",
       "<table border=\"1\" class=\"dataframe\">\n",
       "  <thead>\n",
       "    <tr style=\"text-align: right;\">\n",
       "      <th></th>\n",
       "      <th>Header</th>\n",
       "      <th>Content</th>\n",
       "      <th>Time</th>\n",
       "      <th>Link</th>\n",
       "      <th>Label</th>\n",
       "      <th>Topic</th>\n",
       "      <th>keywords</th>\n",
       "    </tr>\n",
       "  </thead>\n",
       "  <tbody>\n",
       "    <tr>\n",
       "      <th>0</th>\n",
       "      <td>В одном из ресторанов Нью-Йорка появится \"пяти...</td>\n",
       "      <td>Нью-йоркский ресторан Lucy's Cantina Royale бу...</td>\n",
       "      <td>6/10/2017</td>\n",
       "      <td>https://tass.ru/obschestvo/4625856</td>\n",
       "      <td>0</td>\n",
       "      <td>Политика</td>\n",
       "      <td>пауть,острый,президент,владимир,честь,ресторан...</td>\n",
       "    </tr>\n",
       "    <tr>\n",
       "      <th>1</th>\n",
       "      <td>Экс-глава МИ-6 рассказал о провальном плане за...</td>\n",
       "      <td>Бывший глава британской разведки МИ-6 Джон Ска...</td>\n",
       "      <td>15/08/2017</td>\n",
       "      <td>http://ren.tv/novosti/2017-08-15/eks-glava-mi-...</td>\n",
       "      <td>0</td>\n",
       "      <td>Политика</td>\n",
       "      <td>россия,стратегический план,развал,план,стратег...</td>\n",
       "    </tr>\n",
       "    <tr>\n",
       "      <th>2</th>\n",
       "      <td>Умерла нобелевский лауреат по литературе Светл...</td>\n",
       "      <td>Нобелевский лауреат по литературе Светлана Але...</td>\n",
       "      <td>18/05/2017</td>\n",
       "      <td>https://lenta.ru/news/2017/05/18/alex_nob/</td>\n",
       "      <td>0</td>\n",
       "      <td>Знаменитости</td>\n",
       "      <td>еврей,жизнь,время,алексий,нобелевский,война,пр...</td>\n",
       "    </tr>\n",
       "  </tbody>\n",
       "</table>\n",
       "</div>"
      ],
      "text/plain": [
       "                                              Header  \\\n",
       "0  В одном из ресторанов Нью-Йорка появится \"пяти...   \n",
       "1  Экс-глава МИ-6 рассказал о провальном плане за...   \n",
       "2  Умерла нобелевский лауреат по литературе Светл...   \n",
       "\n",
       "                                             Content        Time  \\\n",
       "0  Нью-йоркский ресторан Lucy's Cantina Royale бу...   6/10/2017   \n",
       "1  Бывший глава британской разведки МИ-6 Джон Ска...  15/08/2017   \n",
       "2  Нобелевский лауреат по литературе Светлана Але...  18/05/2017   \n",
       "\n",
       "                                                Link  Label         Topic  \\\n",
       "0                 https://tass.ru/obschestvo/4625856      0      Политика   \n",
       "1  http://ren.tv/novosti/2017-08-15/eks-glava-mi-...      0      Политика   \n",
       "2         https://lenta.ru/news/2017/05/18/alex_nob/      0  Знаменитости   \n",
       "\n",
       "                                            keywords  \n",
       "0  пауть,острый,президент,владимир,честь,ресторан...  \n",
       "1  россия,стратегический план,развал,план,стратег...  \n",
       "2  еврей,жизнь,время,алексий,нобелевский,война,пр...  "
      ]
     },
     "execution_count": 290,
     "metadata": {},
     "output_type": "execute_result"
    }
   ],
   "source": [
    "data = pd.read_csv('fake news data.csv', sep='\\t', index_col=False )\n",
    "data = data.drop(['Unnamed: 0'], axis = 1)\n",
    "indexes = data.index\n",
    "data.head(3)\n"
   ]
  },
  {
   "cell_type": "code",
   "execution_count": 291,
   "metadata": {},
   "outputs": [
    {
     "name": "stderr",
     "output_type": "stream",
     "text": [
      "  0%|                                                                                          | 0/218 [00:00<?, ?it/s]C:\\Users\\Nuts\\Anaconda3\\lib\\site-packages\\ipykernel_launcher.py:5: SettingWithCopyWarning: \n",
      "A value is trying to be set on a copy of a slice from a DataFrame\n",
      "\n",
      "See the caveats in the documentation: http://pandas.pydata.org/pandas-docs/stable/indexing.html#indexing-view-versus-copy\n",
      "  \"\"\"\n",
      "100%|████████████████████████████████████████████████████████████████████████████████| 218/218 [00:43<00:00,  5.09it/s]\n"
     ]
    },
    {
     "data": {
      "text/html": [
       "<div>\n",
       "<style scoped>\n",
       "    .dataframe tbody tr th:only-of-type {\n",
       "        vertical-align: middle;\n",
       "    }\n",
       "\n",
       "    .dataframe tbody tr th {\n",
       "        vertical-align: top;\n",
       "    }\n",
       "\n",
       "    .dataframe thead th {\n",
       "        text-align: right;\n",
       "    }\n",
       "</style>\n",
       "<table border=\"1\" class=\"dataframe\">\n",
       "  <thead>\n",
       "    <tr style=\"text-align: right;\">\n",
       "      <th></th>\n",
       "      <th>Header</th>\n",
       "      <th>Content</th>\n",
       "      <th>Time</th>\n",
       "      <th>Link</th>\n",
       "      <th>Label</th>\n",
       "      <th>Topic</th>\n",
       "      <th>keywords</th>\n",
       "    </tr>\n",
       "  </thead>\n",
       "  <tbody>\n",
       "    <tr>\n",
       "      <th>0</th>\n",
       "      <td>В одном из ресторанов Нью-Йорка появится \"пяти...</td>\n",
       "      <td>Нью-йоркский ресторан Lucy's Cantina Royale бу...</td>\n",
       "      <td>6/10/2017</td>\n",
       "      <td>https://tass.ru/obschestvo/4625856</td>\n",
       "      <td>0</td>\n",
       "      <td>[Политика]</td>\n",
       "      <td>пауть,острый,президент,владимир,честь,ресторан...</td>\n",
       "    </tr>\n",
       "    <tr>\n",
       "      <th>1</th>\n",
       "      <td>Экс-глава МИ-6 рассказал о провальном плане за...</td>\n",
       "      <td>Бывший глава британской разведки МИ-6 Джон Ска...</td>\n",
       "      <td>15/08/2017</td>\n",
       "      <td>http://ren.tv/novosti/2017-08-15/eks-glava-mi-...</td>\n",
       "      <td>0</td>\n",
       "      <td>[Политика]</td>\n",
       "      <td>россия,стратегический план,развал,план,стратег...</td>\n",
       "    </tr>\n",
       "    <tr>\n",
       "      <th>2</th>\n",
       "      <td>Умерла нобелевский лауреат по литературе Светл...</td>\n",
       "      <td>Нобелевский лауреат по литературе Светлана Але...</td>\n",
       "      <td>18/05/2017</td>\n",
       "      <td>https://lenta.ru/news/2017/05/18/alex_nob/</td>\n",
       "      <td>0</td>\n",
       "      <td>[Знаменитости]</td>\n",
       "      <td>еврей,жизнь,время,алексий,нобелевский,война,пр...</td>\n",
       "    </tr>\n",
       "  </tbody>\n",
       "</table>\n",
       "</div>"
      ],
      "text/plain": [
       "                                              Header  \\\n",
       "0  В одном из ресторанов Нью-Йорка появится \"пяти...   \n",
       "1  Экс-глава МИ-6 рассказал о провальном плане за...   \n",
       "2  Умерла нобелевский лауреат по литературе Светл...   \n",
       "\n",
       "                                             Content        Time  \\\n",
       "0  Нью-йоркский ресторан Lucy's Cantina Royale бу...   6/10/2017   \n",
       "1  Бывший глава британской разведки МИ-6 Джон Ска...  15/08/2017   \n",
       "2  Нобелевский лауреат по литературе Светлана Але...  18/05/2017   \n",
       "\n",
       "                                                Link  Label           Topic  \\\n",
       "0                 https://tass.ru/obschestvo/4625856      0      [Политика]   \n",
       "1  http://ren.tv/novosti/2017-08-15/eks-glava-mi-...      0      [Политика]   \n",
       "2         https://lenta.ru/news/2017/05/18/alex_nob/      0  [Знаменитости]   \n",
       "\n",
       "                                            keywords  \n",
       "0  пауть,острый,президент,владимир,честь,ресторан...  \n",
       "1  россия,стратегический план,развал,план,стратег...  \n",
       "2  еврей,жизнь,время,алексий,нобелевский,война,пр...  "
      ]
     },
     "execution_count": 291,
     "metadata": {},
     "output_type": "execute_result"
    }
   ],
   "source": [
    "data['Topic'] = data['Topic'].fillna(\"\")\n",
    "#set(data['Topic'])\n",
    "for i in tqdm(indexes):\n",
    "    news_topics =  data['Topic'][i]\n",
    "    data['Topic'][i] = news_topics.split(\"\\n\")\n",
    "data.head(3)"
   ]
  },
  {
   "cell_type": "code",
   "execution_count": null,
   "metadata": {},
   "outputs": [],
   "source": []
  },
  {
   "cell_type": "code",
   "execution_count": 286,
   "metadata": {},
   "outputs": [
    {
     "name": "stderr",
     "output_type": "stream",
     "text": [
      "[nltk_data] Downloading package wordnet to\n",
      "[nltk_data]     C:\\Users\\Nuts\\AppData\\Roaming\\nltk_data...\n",
      "[nltk_data]   Package wordnet is already up-to-date!\n"
     ]
    }
   ],
   "source": [
    "from nltk.stem.porter import PorterStemmer\n",
    "from nltk.stem.wordnet import WordNetLemmatizer\n",
    "nltk.download('wordnet')\n",
    "lem = WordNetLemmatizer()\n",
    "stem = PorterStemmer()\n",
    "word = \"inversely\"\n",
    "stop_words = set(stopwords.words('russian'))\n",
    "new_words = ['что', 'это', 'так', 'вот', 'ещё', 'свой', 'быть', 'й', 'как', 'в', 'б','наш', 'к', 'на', 'свой',\n",
    "             'который', 'очень', 'которые', 'кстати', 'также', 'весь','риа','и']\n",
    "\n",
    "stop_words = stop_words.union(new_words)\n",
    "def processing(texts):\n",
    "    #for i in tqdm_notebook(range(0, len(texts))):\n",
    "        #Remove punctuations\n",
    "\n",
    "        text = re.sub(r'\\W', ' ', texts)\n",
    "        #print(text)\n",
    "        #Convert to lowercase\n",
    "        text = text.lower()\n",
    "\n",
    "        #remove tags\n",
    "        text=re.sub(\"&lt;/?.*?&gt;\",\" &lt;&gt; \",text)\n",
    "\n",
    "        # remove special characters and digits\n",
    "        text=re.sub(\"(\\\\d|\\\\W)+\",\" \",text)\n",
    "\n",
    "        ##Convert to list from string\n",
    "        text = text.split()\n",
    "\n",
    "        ## pymorphy\n",
    "        analyzer = pymorphy2.MorphAnalyzer()  \n",
    "        corpus = (analyzer.normal_forms(word)[0] for word in text)\n",
    "        \n",
    "        lem = WordNetLemmatizer()\n",
    "        corpus = [lem.lemmatize(word) for word in corpus if not word in  \n",
    "                stop_words]\n",
    "        return corpus\n",
    "\n"
   ]
  },
  {
   "cell_type": "markdown",
   "metadata": {},
   "source": [
    "## topic "
   ]
  },
  {
   "cell_type": "code",
   "execution_count": 292,
   "metadata": {},
   "outputs": [
    {
     "name": "stderr",
     "output_type": "stream",
     "text": [
      "  0%|                                                                                          | 0/218 [00:00<?, ?it/s]C:\\Users\\Nuts\\Anaconda3\\lib\\site-packages\\ipykernel_launcher.py:17: SettingWithCopyWarning: \n",
      "A value is trying to be set on a copy of a slice from a DataFrame\n",
      "\n",
      "See the caveats in the documentation: http://pandas.pydata.org/pandas-docs/stable/indexing.html#indexing-view-versus-copy\n",
      "100%|████████████████████████████████████████████████████████████████████████████████| 218/218 [00:43<00:00,  5.01it/s]\n"
     ]
    }
   ],
   "source": [
    "#\n",
    "for j in tqdm(indexes):\n",
    "        topics = []\n",
    "        t = data['Topic'][j]\n",
    "        for i in t:\n",
    "            i = i.replace(' Украина', 'Украина')\n",
    "            i = i.replace(' Социальные сети', 'Социальные сети')\n",
    "            i = i.replace('Социальные сети', 'Интернет')\n",
    "            i = i.replace('УKраина', 'Украина')\n",
    "            i = i.replace('УКраина', 'Украина')\n",
    "            i = i.replace('Полтика', 'Политика')\n",
    "            i = i.replace('Политка', 'Политика')\n",
    "            i = i.replace('Сирия', 'Сирия')\n",
    "            i = i.replace('Визы в США', 'США')\n",
    "            i = i.replace('Путинбургер', 'Путин')\n",
    "            topics.append(i)\n",
    "        data['Topic'][j] = topics\n",
    "        \n",
    "        "
   ]
  },
  {
   "cell_type": "code",
   "execution_count": 293,
   "metadata": {},
   "outputs": [
    {
     "data": {
      "text/plain": [
       "['США',\n",
       " 'Спорт',\n",
       " '',\n",
       " 'Армия',\n",
       " 'Экономика',\n",
       " 'Скрипали',\n",
       " 'Трагедия в кемерово',\n",
       " 'Украина',\n",
       " 'Церковь',\n",
       " 'Политика ',\n",
       " 'Санкции',\n",
       " 'Сирия',\n",
       " 'Выборы',\n",
       " 'Сирия ',\n",
       " 'Малазийский боинг',\n",
       " 'Путин',\n",
       " 'Великобритания',\n",
       " 'Образование',\n",
       " 'Крым',\n",
       " 'Интернет',\n",
       " 'Знаменитости',\n",
       " 'ВЫборы',\n",
       " 'Политика',\n",
       " 'Общество',\n",
       " 'Технологии',\n",
       " 'Германия',\n",
       " 'Россия']"
      ]
     },
     "execution_count": 293,
     "metadata": {},
     "output_type": "execute_result"
    }
   ],
   "source": [
    "topics = []\n",
    "for t in data['Topic']:\n",
    "    topics += t\n",
    "topics = list(set(topics))\n",
    "topics\n"
   ]
  },
  {
   "cell_type": "code",
   "execution_count": 294,
   "metadata": {},
   "outputs": [],
   "source": [
    "# dict news _ topic\n",
    "news_clast = defaultdict(list)\n",
    "for i in indexes:\n",
    "    t = data['Topic'][i]\n",
    "    for word in t:\n",
    "        news_clast[word].append(i)"
   ]
  },
  {
   "cell_type": "code",
   "execution_count": 262,
   "metadata": {},
   "outputs": [],
   "source": [
    "DocEntry = namedtuple('DocEntry',['doc_id','positions'])\n",
    "class InvertedIndex:\n",
    "    \n",
    "    def __init__(self):\n",
    "        self.dict = defaultdict(list)\n",
    "        self.texts = dict()\n",
    "        \n",
    "    def add_document(self, text, doc_id):\n",
    "        self.texts[doc_id] = text\n",
    "        words = processing(text)\n",
    "        \n",
    "        \n",
    "        word_to_entry = defaultdict(lambda: [])\n",
    "        \n",
    "        for pos, word in enumerate(words):\n",
    "            \n",
    "            doc_entry = word_to_entry[word]\n",
    "            doc_entry.append(pos)\n",
    "            \n",
    "        for word, positions in word_to_entry.items():\n",
    "            postings = self.dict[word]\n",
    "            entry = DocEntry(doc_id, positions)\n",
    "            \n",
    "            i = bisect.bisect_left(postings, entry)\n",
    "        \n",
    "            postings.insert(i, entry)\n",
    "            \n",
    "    def get_postings(self, word):\n",
    "        return self.dict[word]\n"
   ]
  },
  {
   "cell_type": "code",
   "execution_count": null,
   "metadata": {},
   "outputs": [],
   "source": []
  },
  {
   "cell_type": "code",
   "execution_count": 295,
   "metadata": {},
   "outputs": [],
   "source": [
    "#w_d список документов со словом w\n",
    "#d_cl список документов из класca t \n",
    "\n",
    "#w_d,  d_cl\n",
    "def f_N11( w_d,d_cl,n):\n",
    "    k= 0\n",
    "    \n",
    "    for d in range(n):\n",
    "        if (d in d_cl )& (d in w_d):\n",
    "            k+=1\n",
    "    return k\n",
    "#not w_d, w_cl\n",
    "def f_N01(w_d,w_cl,n):\n",
    "    k= 0\n",
    "    for d in range(n):\n",
    "        if (d in w_cl )& (d not in w_d):\n",
    "            k+=1\n",
    "    return k\n",
    "#not w_d, not w_cl\n",
    "def f_N00( w_d,w_cl,n):\n",
    "    k= 0\n",
    "    for d in range(n):\n",
    "        if (d not in w_cl )& (d not in w_d):\n",
    "            k+=1\n",
    "    return k\n",
    "\n",
    "#w_d,   not w_cl\n",
    "def f_N10( w_d,w_cl,n):\n",
    "    k= 0\n",
    "    for d in range(n):\n",
    "        if (d not in w_cl )& (d in w_d):\n",
    "            k+=1\n",
    "    return k"
   ]
  },
  {
   "cell_type": "code",
   "execution_count": 296,
   "metadata": {},
   "outputs": [
    {
     "data": {
      "application/vnd.jupyter.widget-view+json": {
       "model_id": "9db06ce9a0b644279e9356570c74a01d",
       "version_major": 2,
       "version_minor": 0
      },
      "text/plain": [
       "HBox(children=(IntProgress(value=0, max=218), HTML(value='')))"
      ]
     },
     "metadata": {},
     "output_type": "display_data"
    },
    {
     "name": "stdout",
     "output_type": "stream",
     "text": [
      "\n"
     ]
    }
   ],
   "source": [
    "\n",
    "#analyzer = pymorphy2.MorphAnalyzer()   \n",
    "\"\"\"Создание инвертированного индекса\"\"\"   \n",
    "index = InvertedIndex()\n",
    "\n",
    "for i in tqdm_notebook(indexes):\n",
    "        doc_id = i\n",
    "        text = data['Content'][i]\n",
    "        index.add_document(text,doc_id)"
   ]
  },
  {
   "cell_type": "code",
   "execution_count": null,
   "metadata": {},
   "outputs": [],
   "source": []
  },
  {
   "cell_type": "markdown",
   "metadata": {},
   "source": [
    "# Mutual Information"
   ]
  },
  {
   "cell_type": "code",
   "execution_count": 265,
   "metadata": {},
   "outputs": [],
   "source": [
    "def mutual_information(t):\n",
    "    MI = []\n",
    "    N = len(data['Content'])\n",
    "    for word in (word_dict.items()):\n",
    "        w  = word[1]\n",
    "        \n",
    "        w_d=[]\n",
    "        for doc_id,pos in index.dict.get(w):\n",
    "            w_d.append(doc_id)\n",
    "        \n",
    "        N11 = f_N11(w_d,news_clast.get(t),N)\n",
    "        N1 = len(w_d)\n",
    "        N10 = f_N10(w_d,news_clast.get(t),N)\n",
    "        N0 = N - N1\n",
    "        #print(N, N1, N0)\n",
    "        N01 = f_N01(w_d,news_clast.get(t),N)\n",
    "        N00 = f_N00(w_d,news_clast.get(t),N)\n",
    "        if N10==0: N10=0.0001\n",
    "        if N01==0: N01=0.0001\n",
    "        if N11==0: N11=0.0001\n",
    "        if N00==0: N00=0.0001\n",
    "   \n",
    "        #print(N11, N01, N10, N00)\n",
    "        I = N11/N * math.log2(N*N11/(N1*N1)) + N01/N*math.log2(N * N01/(N0*N1)) +N10/N*math.log2(N * N10/(N0*N1))+N00/N*math.log2(N * N00/(N0*N0))\n",
    "        MI.append(I)\n",
    "    return MI"
   ]
  },
  {
   "cell_type": "code",
   "execution_count": 266,
   "metadata": {},
   "outputs": [],
   "source": [
    "#словарь слов: ключ - номер индекса , значение -словао\n",
    "word_dict = {}\n",
    "for i, word in enumerate(index.dict.keys()):\n",
    "    word_dict[i] = word"
   ]
  },
  {
   "cell_type": "code",
   "execution_count": 199,
   "metadata": {},
   "outputs": [
    {
     "data": {
      "text/plain": [
       "[DocEntry(doc_id=20, positions=[27]),\n",
       " DocEntry(doc_id=21, positions=[57]),\n",
       " DocEntry(doc_id=23, positions=[73]),\n",
       " DocEntry(doc_id=32, positions=[99]),\n",
       " DocEntry(doc_id=38, positions=[1, 36, 70, 151]),\n",
       " DocEntry(doc_id=40, positions=[31, 47]),\n",
       " DocEntry(doc_id=72, positions=[6, 22, 41, 57, 65, 84, 137]),\n",
       " DocEntry(doc_id=79, positions=[19]),\n",
       " DocEntry(doc_id=88, positions=[47]),\n",
       " DocEntry(doc_id=134, positions=[8, 34, 49]),\n",
       " DocEntry(doc_id=172, positions=[79, 140]),\n",
       " DocEntry(doc_id=175, positions=[8]),\n",
       " DocEntry(doc_id=204, positions=[30, 76]),\n",
       " DocEntry(doc_id=209, positions=[4])]"
      ]
     },
     "execution_count": 199,
     "metadata": {},
     "output_type": "execute_result"
    }
   ],
   "source": [
    "index.dict.get(\"порошенко\")"
   ]
  },
  {
   "cell_type": "code",
   "execution_count": null,
   "metadata": {},
   "outputs": [],
   "source": []
  },
  {
   "cell_type": "code",
   "execution_count": null,
   "metadata": {},
   "outputs": [],
   "source": []
  },
  {
   "cell_type": "markdown",
   "metadata": {},
   "source": [
    "# Mutual Information : \n",
    "### MI(word, topic) for all words, for all topics\n"
   ]
  },
  {
   "cell_type": "code",
   "execution_count": 267,
   "metadata": {},
   "outputs": [
    {
     "data": {
      "application/vnd.jupyter.widget-view+json": {
       "model_id": "49224208f12b4e6d8885d8c967bab6e1",
       "version_major": 2,
       "version_minor": 0
      },
      "text/plain": [
       "HBox(children=(IntProgress(value=0, max=27), HTML(value='')))"
      ]
     },
     "metadata": {},
     "output_type": "display_data"
    },
    {
     "name": "stdout",
     "output_type": "stream",
     "text": [
      "\n"
     ]
    }
   ],
   "source": [
    "\n",
    "data_mi = pd.DataFrame(index=range(len(word_dict.items())),columns = topics)\n",
    "for topic in tqdm_notebook(topics):\n",
    "    MI = mutual_information(topic)\n",
    "    for i, mi in enumerate(MI):\n",
    "        data_mi[topic][i] = mi"
   ]
  },
  {
   "cell_type": "code",
   "execution_count": 297,
   "metadata": {},
   "outputs": [
    {
     "data": {
      "text/html": [
       "<div>\n",
       "<style scoped>\n",
       "    .dataframe tbody tr th:only-of-type {\n",
       "        vertical-align: middle;\n",
       "    }\n",
       "\n",
       "    .dataframe tbody tr th {\n",
       "        vertical-align: top;\n",
       "    }\n",
       "\n",
       "    .dataframe thead th {\n",
       "        text-align: right;\n",
       "    }\n",
       "</style>\n",
       "<table border=\"1\" class=\"dataframe\">\n",
       "  <thead>\n",
       "    <tr style=\"text-align: right;\">\n",
       "      <th></th>\n",
       "      <th>США</th>\n",
       "      <th>Спорт</th>\n",
       "      <th></th>\n",
       "      <th>Армия</th>\n",
       "      <th>Экономика</th>\n",
       "      <th>Скрипали</th>\n",
       "      <th>Трагедия в кемерово</th>\n",
       "      <th>Украина</th>\n",
       "      <th>Церковь</th>\n",
       "      <th>Политика</th>\n",
       "      <th>...</th>\n",
       "      <th>Образование</th>\n",
       "      <th>Крым</th>\n",
       "      <th>Интернет</th>\n",
       "      <th>Знаменитости</th>\n",
       "      <th>ВЫборы</th>\n",
       "      <th>Политика</th>\n",
       "      <th>Общество</th>\n",
       "      <th>Технологии</th>\n",
       "      <th>Германия</th>\n",
       "      <th>Россия</th>\n",
       "    </tr>\n",
       "  </thead>\n",
       "  <tbody>\n",
       "    <tr>\n",
       "      <th>0</th>\n",
       "      <td>0.00794302</td>\n",
       "      <td>0.003376</td>\n",
       "      <td>0.0493669</td>\n",
       "      <td>0.03357</td>\n",
       "      <td>0.03357</td>\n",
       "      <td>0.0147494</td>\n",
       "      <td>0.00936716</td>\n",
       "      <td>0.266747</td>\n",
       "      <td>0.00201208</td>\n",
       "      <td>0.03357</td>\n",
       "      <td>...</td>\n",
       "      <td>0.0224124</td>\n",
       "      <td>0.0147494</td>\n",
       "      <td>0.00568916</td>\n",
       "      <td>0.0164324</td>\n",
       "      <td>0.03357</td>\n",
       "      <td>0.633258</td>\n",
       "      <td>0.152763</td>\n",
       "      <td>0.03357</td>\n",
       "      <td>0.0224124</td>\n",
       "      <td>0.00568916</td>\n",
       "    </tr>\n",
       "    <tr>\n",
       "      <th>1</th>\n",
       "      <td>0.0784185</td>\n",
       "      <td>0.0177657</td>\n",
       "      <td>0.192026</td>\n",
       "      <td>0.00210369</td>\n",
       "      <td>0.00210369</td>\n",
       "      <td>0.00162823</td>\n",
       "      <td>0.00541716</td>\n",
       "      <td>0.610537</td>\n",
       "      <td>0.0347377</td>\n",
       "      <td>0.00210369</td>\n",
       "      <td>...</td>\n",
       "      <td>0.000119106</td>\n",
       "      <td>0.00162823</td>\n",
       "      <td>0.0109095</td>\n",
       "      <td>0.00541716</td>\n",
       "      <td>0.00210369</td>\n",
       "      <td>1.22596</td>\n",
       "      <td>0.405202</td>\n",
       "      <td>0.00210369</td>\n",
       "      <td>0.000119106</td>\n",
       "      <td>0.0109095</td>\n",
       "    </tr>\n",
       "    <tr>\n",
       "      <th>2</th>\n",
       "      <td>0.0258607</td>\n",
       "      <td>0.0015669</td>\n",
       "      <td>0.0896516</td>\n",
       "      <td>0.0162167</td>\n",
       "      <td>0.0162167</td>\n",
       "      <td>0.00361519</td>\n",
       "      <td>0.00134177</td>\n",
       "      <td>0.376469</td>\n",
       "      <td>0.0064174</td>\n",
       "      <td>0.0162167</td>\n",
       "      <td>...</td>\n",
       "      <td>0.00816886</td>\n",
       "      <td>0.00361519</td>\n",
       "      <td>0.000772154</td>\n",
       "      <td>0.00134177</td>\n",
       "      <td>0.0162167</td>\n",
       "      <td>0.832439</td>\n",
       "      <td>0.23158</td>\n",
       "      <td>0.0162167</td>\n",
       "      <td>0.00816886</td>\n",
       "      <td>0.000772154</td>\n",
       "    </tr>\n",
       "  </tbody>\n",
       "</table>\n",
       "<p>3 rows × 27 columns</p>\n",
       "</div>"
      ],
      "text/plain": [
       "          США      Спорт                  Армия   Экономика    Скрипали  \\\n",
       "0  0.00794302   0.003376  0.0493669     0.03357     0.03357   0.0147494   \n",
       "1   0.0784185  0.0177657   0.192026  0.00210369  0.00210369  0.00162823   \n",
       "2   0.0258607  0.0015669  0.0896516   0.0162167   0.0162167  0.00361519   \n",
       "\n",
       "  Трагедия в кемерово   Украина     Церковь   Политика   ...  Образование  \\\n",
       "0          0.00936716  0.266747  0.00201208     0.03357  ...    0.0224124   \n",
       "1          0.00541716  0.610537   0.0347377  0.00210369  ...  0.000119106   \n",
       "2          0.00134177  0.376469   0.0064174   0.0162167  ...   0.00816886   \n",
       "\n",
       "         Крым     Интернет Знаменитости      ВЫборы  Политика  Общество  \\\n",
       "0   0.0147494   0.00568916    0.0164324     0.03357  0.633258  0.152763   \n",
       "1  0.00162823    0.0109095   0.00541716  0.00210369   1.22596  0.405202   \n",
       "2  0.00361519  0.000772154   0.00134177   0.0162167  0.832439   0.23158   \n",
       "\n",
       "   Технологии     Германия       Россия  \n",
       "0     0.03357    0.0224124   0.00568916  \n",
       "1  0.00210369  0.000119106    0.0109095  \n",
       "2   0.0162167   0.00816886  0.000772154  \n",
       "\n",
       "[3 rows x 27 columns]"
      ]
     },
     "execution_count": 297,
     "metadata": {},
     "output_type": "execute_result"
    }
   ],
   "source": [
    "data_mi.head(3)"
   ]
  },
  {
   "cell_type": "markdown",
   "metadata": {},
   "source": [
    "### \"main\" words for topics\n",
    "Сирия"
   ]
  },
  {
   "cell_type": "code",
   "execution_count": 269,
   "metadata": {},
   "outputs": [
    {
     "name": "stdout",
     "output_type": "stream",
     "text": [
      "человек\n",
      "пастор\n",
      "пропагандистка\n",
      "запустить\n",
      "сорок\n",
      "джебхата\n",
      "отправиться\n",
      "ранение\n",
      "дакниша\n",
      "омрана\n",
      "нуср\n",
      "ан\n",
      "шок\n",
      "встретиться\n",
      "баронесса\n"
     ]
    }
   ],
   "source": [
    "topic = 'Сирия'\n",
    "top_ind = data_mi.sort_values([topic],ascending=False)[5:20].index\n",
    "for i in top_ind:\n",
    "        print(word_dict[i])"
   ]
  },
  {
   "cell_type": "code",
   "execution_count": 270,
   "metadata": {},
   "outputs": [
    {
     "name": "stdout",
     "output_type": "stream",
     "text": [
      "осло\n",
      "смерть\n",
      "ходорковский\n",
      "скупать\n",
      "африка\n",
      "орхан\n",
      "джемаля\n",
      "расторгуев\n",
      "радченко\n",
      "африканский\n",
      "безответственно\n",
      "юстиция\n",
      "плохо\n",
      "николь\n",
      "авантюра\n",
      "революционер\n",
      "календарь\n",
      "разоблачительный\n",
      "гнев\n",
      "беллуб\n"
     ]
    }
   ],
   "source": [
    "topic = 'Общество'\n",
    "top_ind = data_mi.sort_values([topic],ascending=False)[0:20].index\n",
    "for i in top_ind:\n",
    "        print(word_dict[i])\n",
    "        "
   ]
  },
  {
   "cell_type": "code",
   "execution_count": 271,
   "metadata": {},
   "outputs": [
    {
     "name": "stdout",
     "output_type": "stream",
     "text": [
      "украина\n",
      "мочь\n",
      "заявить\n",
      "время\n",
      "слово\n",
      "сша\n",
      "глава\n",
      "дело\n",
      "считать\n",
      "сказать\n",
      "президент\n",
      "власть\n",
      "американский\n",
      "москва\n",
      "говорить\n"
     ]
    }
   ],
   "source": [
    "topic = 'Путин'\n",
    "top_ind = data_mi.sort_values([topic],ascending=False)[5:20].index\n",
    "for i in top_ind:\n",
    "        print(word_dict[i])"
   ]
  },
  {
   "cell_type": "markdown",
   "metadata": {},
   "source": [
    "\n",
    "add mi_keywords to dataframe"
   ]
  },
  {
   "cell_type": "code",
   "execution_count": 298,
   "metadata": {},
   "outputs": [
    {
     "data": {
      "text/html": [
       "<div>\n",
       "<style scoped>\n",
       "    .dataframe tbody tr th:only-of-type {\n",
       "        vertical-align: middle;\n",
       "    }\n",
       "\n",
       "    .dataframe tbody tr th {\n",
       "        vertical-align: top;\n",
       "    }\n",
       "\n",
       "    .dataframe thead th {\n",
       "        text-align: right;\n",
       "    }\n",
       "</style>\n",
       "<table border=\"1\" class=\"dataframe\">\n",
       "  <thead>\n",
       "    <tr style=\"text-align: right;\">\n",
       "      <th></th>\n",
       "    </tr>\n",
       "  </thead>\n",
       "  <tbody>\n",
       "    <tr>\n",
       "      <th>words</th>\n",
       "    </tr>\n",
       "  </tbody>\n",
       "</table>\n",
       "</div>"
      ],
      "text/plain": [
       "Empty DataFrame\n",
       "Columns: []\n",
       "Index: [words]"
      ]
     },
     "execution_count": 298,
     "metadata": {},
     "output_type": "execute_result"
    }
   ],
   "source": [
    "mi_keywords = pd.DataFrame(index = [\"words\"])\n",
    "mi_keywords"
   ]
  },
  {
   "cell_type": "code",
   "execution_count": 273,
   "metadata": {},
   "outputs": [
    {
     "data": {
      "text/html": [
       "<div>\n",
       "<style scoped>\n",
       "    .dataframe tbody tr th:only-of-type {\n",
       "        vertical-align: middle;\n",
       "    }\n",
       "\n",
       "    .dataframe tbody tr th {\n",
       "        vertical-align: top;\n",
       "    }\n",
       "\n",
       "    .dataframe thead th {\n",
       "        text-align: right;\n",
       "    }\n",
       "</style>\n",
       "<table border=\"1\" class=\"dataframe\">\n",
       "  <thead>\n",
       "    <tr style=\"text-align: right;\">\n",
       "      <th></th>\n",
       "      <th>США</th>\n",
       "      <th>Спорт</th>\n",
       "      <th></th>\n",
       "      <th>Армия</th>\n",
       "      <th>Экономика</th>\n",
       "      <th>Скрипали</th>\n",
       "      <th>Трагедия в кемерово</th>\n",
       "      <th>Украина</th>\n",
       "      <th>Церковь</th>\n",
       "      <th>Политика</th>\n",
       "      <th>...</th>\n",
       "      <th>Образование</th>\n",
       "      <th>Крым</th>\n",
       "      <th>Интернет</th>\n",
       "      <th>Знаменитости</th>\n",
       "      <th>ВЫборы</th>\n",
       "      <th>Политика</th>\n",
       "      <th>Общество</th>\n",
       "      <th>Технологии</th>\n",
       "      <th>Германия</th>\n",
       "      <th>Россия</th>\n",
       "    </tr>\n",
       "  </thead>\n",
       "  <tbody>\n",
       "    <tr>\n",
       "      <th>words</th>\n",
       "      <td>[россия, год, российский, страна, украина, сша...</td>\n",
       "      <td>[россия, год, российский, страна, украина, чел...</td>\n",
       "      <td>[россия, год, мастер, письменный, углубление, ...</td>\n",
       "      <td>[россия, год, российский, страна, человек, укр...</td>\n",
       "      <td>[россия, год, российский, страна, человек, укр...</td>\n",
       "      <td>[россия, год, российский, страна, человек, укр...</td>\n",
       "      <td>[россия, год, российский, страна, человек, укр...</td>\n",
       "      <td>[предельный, отопительный, жилой, просеиваться...</td>\n",
       "      <td>[россия, год, российский, страна, украина, чел...</td>\n",
       "      <td>[россия, год, российский, страна, человек, укр...</td>\n",
       "      <td>...</td>\n",
       "      <td>[россия, год, российский, страна, человек, укр...</td>\n",
       "      <td>[россия, год, российский, страна, человек, укр...</td>\n",
       "      <td>[россия, год, российский, страна, украина, чел...</td>\n",
       "      <td>[россия, год, российский, страна, человек, укр...</td>\n",
       "      <td>[россия, год, российский, страна, человек, укр...</td>\n",
       "      <td>[седвилл, медиаресурс, самоубийственный, озагл...</td>\n",
       "      <td>[осло, смерть, ходорковский, скупать, африка, ...</td>\n",
       "      <td>[россия, год, российский, страна, человек, укр...</td>\n",
       "      <td>[россия, год, российский, страна, человек, укр...</td>\n",
       "      <td>[россия, год, российский, страна, украина, чел...</td>\n",
       "    </tr>\n",
       "  </tbody>\n",
       "</table>\n",
       "<p>1 rows × 27 columns</p>\n",
       "</div>"
      ],
      "text/plain": [
       "                                                     США  \\\n",
       "words  [россия, год, российский, страна, украина, сша...   \n",
       "\n",
       "                                                   Спорт  \\\n",
       "words  [россия, год, российский, страна, украина, чел...   \n",
       "\n",
       "                                                          \\\n",
       "words  [россия, год, мастер, письменный, углубление, ...   \n",
       "\n",
       "                                                   Армия  \\\n",
       "words  [россия, год, российский, страна, человек, укр...   \n",
       "\n",
       "                                               Экономика  \\\n",
       "words  [россия, год, российский, страна, человек, укр...   \n",
       "\n",
       "                                                Скрипали  \\\n",
       "words  [россия, год, российский, страна, человек, укр...   \n",
       "\n",
       "                                     Трагедия в кемерово  \\\n",
       "words  [россия, год, российский, страна, человек, укр...   \n",
       "\n",
       "                                                 Украина  \\\n",
       "words  [предельный, отопительный, жилой, просеиваться...   \n",
       "\n",
       "                                                 Церковь  \\\n",
       "words  [россия, год, российский, страна, украина, чел...   \n",
       "\n",
       "                                               Политика   ...  \\\n",
       "words  [россия, год, российский, страна, человек, укр...  ...   \n",
       "\n",
       "                                             Образование  \\\n",
       "words  [россия, год, российский, страна, человек, укр...   \n",
       "\n",
       "                                                    Крым  \\\n",
       "words  [россия, год, российский, страна, человек, укр...   \n",
       "\n",
       "                                                Интернет  \\\n",
       "words  [россия, год, российский, страна, украина, чел...   \n",
       "\n",
       "                                            Знаменитости  \\\n",
       "words  [россия, год, российский, страна, человек, укр...   \n",
       "\n",
       "                                                  ВЫборы  \\\n",
       "words  [россия, год, российский, страна, человек, укр...   \n",
       "\n",
       "                                                Политика  \\\n",
       "words  [седвилл, медиаресурс, самоубийственный, озагл...   \n",
       "\n",
       "                                                Общество  \\\n",
       "words  [осло, смерть, ходорковский, скупать, африка, ...   \n",
       "\n",
       "                                              Технологии  \\\n",
       "words  [россия, год, российский, страна, человек, укр...   \n",
       "\n",
       "                                                Германия  \\\n",
       "words  [россия, год, российский, страна, человек, укр...   \n",
       "\n",
       "                                                  Россия  \n",
       "words  [россия, год, российский, страна, украина, чел...  \n",
       "\n",
       "[1 rows x 27 columns]"
      ]
     },
     "execution_count": 273,
     "metadata": {},
     "output_type": "execute_result"
    }
   ],
   "source": [
    "for topic in topics:\n",
    "    mi_keywords[topic] = \"\"\n",
    "    top = data_mi.sort_values([topic],ascending=False)[:20].index\n",
    "    words = []\n",
    "    for i in top:\n",
    "        words.append(word_dict[i])\n",
    "    mi_keywords[topic][\"words\"] = words\n",
    "mi_keywords\n",
    "    \n"
   ]
  },
  {
   "cell_type": "code",
   "execution_count": 274,
   "metadata": {},
   "outputs": [],
   "source": [
    "data[\"mi_keywords\"]=\"\""
   ]
  },
  {
   "cell_type": "code",
   "execution_count": 278,
   "metadata": {},
   "outputs": [
    {
     "name": "stderr",
     "output_type": "stream",
     "text": [
      "C:\\Users\\Nuts\\Anaconda3\\lib\\site-packages\\ipykernel_launcher.py:8: SettingWithCopyWarning: \n",
      "A value is trying to be set on a copy of a slice from a DataFrame\n",
      "\n",
      "See the caveats in the documentation: http://pandas.pydata.org/pandas-docs/stable/indexing.html#indexing-view-versus-copy\n",
      "  \n"
     ]
    }
   ],
   "source": [
    "\n",
    "for i in (range(len(data))):\n",
    "    keywords = []\n",
    "    topics = data[\"Topic\"][i]\n",
    "    for top in topics:\n",
    "        #print(top, mi_keywords[top][\"words\"])\n",
    "        keywords+=mi_keywords[top][\"words\"]\n",
    "    data[\"mi_keywords\"][i] = keywords"
   ]
  },
  {
   "cell_type": "code",
   "execution_count": 281,
   "metadata": {},
   "outputs": [
    {
     "data": {
      "text/html": [
       "<div>\n",
       "<style scoped>\n",
       "    .dataframe tbody tr th:only-of-type {\n",
       "        vertical-align: middle;\n",
       "    }\n",
       "\n",
       "    .dataframe tbody tr th {\n",
       "        vertical-align: top;\n",
       "    }\n",
       "\n",
       "    .dataframe thead th {\n",
       "        text-align: right;\n",
       "    }\n",
       "</style>\n",
       "<table border=\"1\" class=\"dataframe\">\n",
       "  <thead>\n",
       "    <tr style=\"text-align: right;\">\n",
       "      <th></th>\n",
       "      <th>Header</th>\n",
       "      <th>Content</th>\n",
       "      <th>Time</th>\n",
       "      <th>Link</th>\n",
       "      <th>Label</th>\n",
       "      <th>Topic</th>\n",
       "      <th>keywords</th>\n",
       "      <th>mi_keywords</th>\n",
       "    </tr>\n",
       "  </thead>\n",
       "  <tbody>\n",
       "    <tr>\n",
       "      <th>0</th>\n",
       "      <td>В одном из ресторанов Нью-Йорка появится \"пяти...</td>\n",
       "      <td>Нью-йоркский ресторан Lucy's Cantina Royale бу...</td>\n",
       "      <td>6/10/2017</td>\n",
       "      <td>https://tass.ru/obschestvo/4625856</td>\n",
       "      <td>0</td>\n",
       "      <td>[Политика]</td>\n",
       "      <td>пауть,острый,президент,владимир,честь,ресторан...</td>\n",
       "      <td>[седвилл, медиаресурс, самоубийственный, озагл...</td>\n",
       "    </tr>\n",
       "    <tr>\n",
       "      <th>1</th>\n",
       "      <td>Экс-глава МИ-6 рассказал о провальном плане за...</td>\n",
       "      <td>Бывший глава британской разведки МИ-6 Джон Ска...</td>\n",
       "      <td>15/08/2017</td>\n",
       "      <td>http://ren.tv/novosti/2017-08-15/eks-glava-mi-...</td>\n",
       "      <td>0</td>\n",
       "      <td>[Политика]</td>\n",
       "      <td>россия,стратегический план,развал,план,стратег...</td>\n",
       "      <td>[седвилл, медиаресурс, самоубийственный, озагл...</td>\n",
       "    </tr>\n",
       "    <tr>\n",
       "      <th>2</th>\n",
       "      <td>Умерла нобелевский лауреат по литературе Светл...</td>\n",
       "      <td>Нобелевский лауреат по литературе Светлана Але...</td>\n",
       "      <td>18/05/2017</td>\n",
       "      <td>https://lenta.ru/news/2017/05/18/alex_nob/</td>\n",
       "      <td>0</td>\n",
       "      <td>[Знаменитости]</td>\n",
       "      <td>еврей,жизнь,время,алексий,нобелевский,война,пр...</td>\n",
       "      <td>[россия, год, российский, страна, человек, укр...</td>\n",
       "    </tr>\n",
       "  </tbody>\n",
       "</table>\n",
       "</div>"
      ],
      "text/plain": [
       "                                              Header  \\\n",
       "0  В одном из ресторанов Нью-Йорка появится \"пяти...   \n",
       "1  Экс-глава МИ-6 рассказал о провальном плане за...   \n",
       "2  Умерла нобелевский лауреат по литературе Светл...   \n",
       "\n",
       "                                             Content        Time  \\\n",
       "0  Нью-йоркский ресторан Lucy's Cantina Royale бу...   6/10/2017   \n",
       "1  Бывший глава британской разведки МИ-6 Джон Ска...  15/08/2017   \n",
       "2  Нобелевский лауреат по литературе Светлана Але...  18/05/2017   \n",
       "\n",
       "                                                Link  Label           Topic  \\\n",
       "0                 https://tass.ru/obschestvo/4625856      0      [Политика]   \n",
       "1  http://ren.tv/novosti/2017-08-15/eks-glava-mi-...      0      [Политика]   \n",
       "2         https://lenta.ru/news/2017/05/18/alex_nob/      0  [Знаменитости]   \n",
       "\n",
       "                                            keywords  \\\n",
       "0  пауть,острый,президент,владимир,честь,ресторан...   \n",
       "1  россия,стратегический план,развал,план,стратег...   \n",
       "2  еврей,жизнь,время,алексий,нобелевский,война,пр...   \n",
       "\n",
       "                                         mi_keywords  \n",
       "0  [седвилл, медиаресурс, самоубийственный, озагл...  \n",
       "1  [седвилл, медиаресурс, самоубийственный, озагл...  \n",
       "2  [россия, год, российский, страна, человек, укр...  "
      ]
     },
     "execution_count": 281,
     "metadata": {},
     "output_type": "execute_result"
    }
   ],
   "source": [
    "data.head(3)"
   ]
  },
  {
   "cell_type": "code",
   "execution_count": null,
   "metadata": {},
   "outputs": [],
   "source": []
  },
  {
   "cell_type": "code",
   "execution_count": 282,
   "metadata": {},
   "outputs": [],
   "source": [
    "data.to_csv('fake news keywords.csv', sep='\\t', encoding='utf-8')"
   ]
  },
  {
   "cell_type": "code",
   "execution_count": null,
   "metadata": {},
   "outputs": [],
   "source": []
  }
 ],
 "metadata": {
  "kernelspec": {
   "display_name": "Python 3",
   "language": "python",
   "name": "python3"
  },
  "language_info": {
   "codemirror_mode": {
    "name": "ipython",
    "version": 3
   },
   "file_extension": ".py",
   "mimetype": "text/x-python",
   "name": "python",
   "nbconvert_exporter": "python",
   "pygments_lexer": "ipython3",
   "version": "3.7.3"
  }
 },
 "nbformat": 4,
 "nbformat_minor": 2
}
