{
 "cells": [
  {
   "cell_type": "code",
   "execution_count": 21,
   "metadata": {},
   "outputs": [],
   "source": [
    "import pandas as pd\n",
    "import sqlite3\n",
    "import numpy as np\n",
    "import re\n",
    "from tqdm import tqdm, tqdm_notebook\n",
    "import nltk\n",
    "from nltk.corpus import stopwords\n",
    "from nltk.tokenize import sent_tokenize, word_tokenize\n",
    "import string\n",
    "import time\n",
    "from sklearn import svm\n",
    "from sklearn.linear_model import LogisticRegression \n",
    "from sklearn.model_selection import train_test_split\n",
    "import math\n",
    "import pymorphy2\n",
    "from sklearn.feature_extraction.text import CountVectorizer, TfidfTransformer\n",
    "import string\n",
    "from sklearn.utils import shuffle\n",
    "from sklearn.naive_bayes import GaussianNB\n",
    "import matplotlib.pyplot as plt\n",
    "from nltk.stem.wordnet import WordNetLemmatizer\n",
    "from sklearn.metrics import classification_report"
   ]
  },
  {
   "cell_type": "markdown",
   "metadata": {},
   "source": [
    "## fake data"
   ]
  },
  {
   "cell_type": "code",
   "execution_count": 22,
   "metadata": {},
   "outputs": [
    {
     "data": {
      "text/html": [
       "<div>\n",
       "<style scoped>\n",
       "    .dataframe tbody tr th:only-of-type {\n",
       "        vertical-align: middle;\n",
       "    }\n",
       "\n",
       "    .dataframe tbody tr th {\n",
       "        vertical-align: top;\n",
       "    }\n",
       "\n",
       "    .dataframe thead th {\n",
       "        text-align: right;\n",
       "    }\n",
       "</style>\n",
       "<table border=\"1\" class=\"dataframe\">\n",
       "  <thead>\n",
       "    <tr style=\"text-align: right;\">\n",
       "      <th></th>\n",
       "      <th>Header</th>\n",
       "      <th>Content</th>\n",
       "      <th>Time</th>\n",
       "      <th>Link</th>\n",
       "      <th>Label</th>\n",
       "      <th>Topic</th>\n",
       "      <th>keywords</th>\n",
       "    </tr>\n",
       "  </thead>\n",
       "  <tbody>\n",
       "    <tr>\n",
       "      <th>0</th>\n",
       "      <td>В одном из ресторанов Нью-Йорка появится \"пяти...</td>\n",
       "      <td>Нью-йоркский ресторан Lucy's Cantina Royale бу...</td>\n",
       "      <td>6/10/2017</td>\n",
       "      <td>https://tass.ru/obschestvo/4625856</td>\n",
       "      <td>0</td>\n",
       "      <td>Политика</td>\n",
       "      <td>пауть,острый,президент,владимир,честь,ресторан...</td>\n",
       "    </tr>\n",
       "    <tr>\n",
       "      <th>1</th>\n",
       "      <td>Экс-глава МИ-6 рассказал о провальном плане за...</td>\n",
       "      <td>Бывший глава британской разведки МИ-6 Джон Ска...</td>\n",
       "      <td>15/08/2017</td>\n",
       "      <td>http://ren.tv/novosti/2017-08-15/eks-glava-mi-...</td>\n",
       "      <td>0</td>\n",
       "      <td>Политика</td>\n",
       "      <td>россия,стратегический план,развал,план,стратег...</td>\n",
       "    </tr>\n",
       "    <tr>\n",
       "      <th>2</th>\n",
       "      <td>Умерла нобелевский лауреат по литературе Светл...</td>\n",
       "      <td>Нобелевский лауреат по литературе Светлана Але...</td>\n",
       "      <td>18/05/2017</td>\n",
       "      <td>https://lenta.ru/news/2017/05/18/alex_nob/</td>\n",
       "      <td>0</td>\n",
       "      <td>Знаменитости</td>\n",
       "      <td>еврей,жизнь,время,алексий,нобелевский,война,пр...</td>\n",
       "    </tr>\n",
       "    <tr>\n",
       "      <th>3</th>\n",
       "      <td>Путин превзошел Обаму на ГА ООН, думают 96% уч...</td>\n",
       "      <td>Большинство участников опроса, размещенного на...</td>\n",
       "      <td>0/10/2015</td>\n",
       "      <td>https://ria.ru/world/20151002/1295551989.html</td>\n",
       "      <td>0</td>\n",
       "      <td>Политика</td>\n",
       "      <td>президент,сайт американский,сайт американский ...</td>\n",
       "    </tr>\n",
       "  </tbody>\n",
       "</table>\n",
       "</div>"
      ],
      "text/plain": [
       "                                              Header  \\\n",
       "0  В одном из ресторанов Нью-Йорка появится \"пяти...   \n",
       "1  Экс-глава МИ-6 рассказал о провальном плане за...   \n",
       "2  Умерла нобелевский лауреат по литературе Светл...   \n",
       "3  Путин превзошел Обаму на ГА ООН, думают 96% уч...   \n",
       "\n",
       "                                             Content        Time  \\\n",
       "0  Нью-йоркский ресторан Lucy's Cantina Royale бу...   6/10/2017   \n",
       "1  Бывший глава британской разведки МИ-6 Джон Ска...  15/08/2017   \n",
       "2  Нобелевский лауреат по литературе Светлана Але...  18/05/2017   \n",
       "3  Большинство участников опроса, размещенного на...   0/10/2015   \n",
       "\n",
       "                                                Link  Label         Topic  \\\n",
       "0                 https://tass.ru/obschestvo/4625856      0      Политика   \n",
       "1  http://ren.tv/novosti/2017-08-15/eks-glava-mi-...      0      Политика   \n",
       "2         https://lenta.ru/news/2017/05/18/alex_nob/      0  Знаменитости   \n",
       "3      https://ria.ru/world/20151002/1295551989.html      0      Политика   \n",
       "\n",
       "                                            keywords  \n",
       "0  пауть,острый,президент,владимир,честь,ресторан...  \n",
       "1  россия,стратегический план,развал,план,стратег...  \n",
       "2  еврей,жизнь,время,алексий,нобелевский,война,пр...  \n",
       "3  президент,сайт американский,сайт американский ...  "
      ]
     },
     "execution_count": 22,
     "metadata": {},
     "output_type": "execute_result"
    }
   ],
   "source": [
    "\n",
    "data = pd.read_csv('fake news keywords.csv', sep='\\t', index_col=False )\n",
    "data = data.drop(['Unnamed: 0'], axis = 1)\n",
    "indexes = data.index\n",
    "data.head(4)"
   ]
  },
  {
   "cell_type": "code",
   "execution_count": null,
   "metadata": {},
   "outputs": [],
   "source": []
  },
  {
   "cell_type": "code",
   "execution_count": 23,
   "metadata": {},
   "outputs": [
    {
     "data": {
      "text/html": [
       "<div>\n",
       "<style scoped>\n",
       "    .dataframe tbody tr th:only-of-type {\n",
       "        vertical-align: middle;\n",
       "    }\n",
       "\n",
       "    .dataframe tbody tr th {\n",
       "        vertical-align: top;\n",
       "    }\n",
       "\n",
       "    .dataframe thead th {\n",
       "        text-align: right;\n",
       "    }\n",
       "</style>\n",
       "<table border=\"1\" class=\"dataframe\">\n",
       "  <thead>\n",
       "    <tr style=\"text-align: right;\">\n",
       "      <th></th>\n",
       "      <th>Content</th>\n",
       "      <th>Label</th>\n",
       "    </tr>\n",
       "  </thead>\n",
       "  <tbody>\n",
       "    <tr>\n",
       "      <th>0</th>\n",
       "      <td>Нью-йоркский ресторан Lucy's Cantina Royale бу...</td>\n",
       "      <td>0</td>\n",
       "    </tr>\n",
       "    <tr>\n",
       "      <th>1</th>\n",
       "      <td>Бывший глава британской разведки МИ-6 Джон Ска...</td>\n",
       "      <td>0</td>\n",
       "    </tr>\n",
       "    <tr>\n",
       "      <th>2</th>\n",
       "      <td>Нобелевский лауреат по литературе Светлана Але...</td>\n",
       "      <td>0</td>\n",
       "    </tr>\n",
       "    <tr>\n",
       "      <th>3</th>\n",
       "      <td>Большинство участников опроса, размещенного на...</td>\n",
       "      <td>0</td>\n",
       "    </tr>\n",
       "  </tbody>\n",
       "</table>\n",
       "</div>"
      ],
      "text/plain": [
       "                                             Content  Label\n",
       "0  Нью-йоркский ресторан Lucy's Cantina Royale бу...      0\n",
       "1  Бывший глава британской разведки МИ-6 Джон Ска...      0\n",
       "2  Нобелевский лауреат по литературе Светлана Але...      0\n",
       "3  Большинство участников опроса, размещенного на...      0"
      ]
     },
     "execution_count": 23,
     "metadata": {},
     "output_type": "execute_result"
    }
   ],
   "source": [
    "datafake = data[[\"Content\", \"Label\"]]\n",
    "#datafake = datafake[datafake['Label']!=1]\n",
    "datafake.head(4)"
   ]
  },
  {
   "cell_type": "code",
   "execution_count": 24,
   "metadata": {},
   "outputs": [],
   "source": [
    "stop_words = set(stopwords.words('russian'))\n",
    "new_words = ['что', 'это', 'так', 'вот', 'ещё', 'свой', 'быть', 'й', 'как', 'в', 'наш', 'к', 'на', 'свой',\n",
    "             'который', 'очень', 'которые', 'кстати', 'также', 'весь','риа']\n",
    "stop_words = stop_words.union(new_words)\n",
    "def processing(texts):\n",
    "    corpus = []\n",
    "    for i in tqdm_notebook(range(0, len(texts))):\n",
    "        #Remove punctuations\n",
    "\n",
    "        text = re.sub(r'\\W', ' ', texts['Content'][i])\n",
    "        #print(text)\n",
    "        #Convert to lowercase\n",
    "        text = text.lower()\n",
    "\n",
    "        #remove tags\n",
    "        text=re.sub(\"&lt;/?.*?&gt;\",\" &lt;&gt; \",text)\n",
    "\n",
    "        # remove special characters and digits\n",
    "        text=re.sub(\"(\\\\d|\\\\W)+\",\" \",text)\n",
    "\n",
    "        ##Convert to list from string\n",
    "        text = text.split()\n",
    "\n",
    "        ## pymorphy\n",
    "        analyzer = pymorphy2.MorphAnalyzer()  \n",
    "        text = (analyzer.normal_forms(word)[0] for word in text)\n",
    "        \n",
    "        lem = WordNetLemmatizer()\n",
    "        text = [lem.lemmatize(word) for word in text if not word in  \n",
    "                stop_words]\n",
    "\n",
    " \n",
    "        text = \" \".join(text)\n",
    "        corpus.append(text)\n",
    "    return corpus\n",
    "\n",
    "\n",
    "def metrics(ypred, y_test):\n",
    "    labels = list(set(y_test))\n",
    "    for label in labels:\n",
    "        print(\"Label: \" +str(label))\n",
    "        TP = sum((ypred==label)&(y_test == label))\n",
    "        TP_FP = sum((ypred==label))\n",
    "        Precission = round(TP/TP_FP, 3)\n",
    "        print(\"Precission = \" +str(Precission))\n",
    "        TP_FN =  sum((y_test==label))\n",
    "        Recall = round(TP/TP_FN, 3)\n",
    "        print(\"Recall = \" + str(Recall))\n",
    "        if (Precission + Recall == 0 ):\n",
    "            F = 0\n",
    "        else:\n",
    "            F =round( 2 * Precission * Recall / (Precission + Recall), 3)\n",
    "        print(\"F = \" + str(F)+ \"\\n\")"
   ]
  },
  {
   "cell_type": "markdown",
   "metadata": {},
   "source": [
    "Naive Bayes from sk-learn"
   ]
  },
  {
   "cell_type": "code",
   "execution_count": 25,
   "metadata": {},
   "outputs": [],
   "source": [
    "def get_data(cursor, datafake, N):  \n",
    "    texts = []\n",
    "    sql = \"SELECT Content FROM News\"\n",
    "    cursor.execute(sql)\n",
    "    for text in cursor.fetchall():\n",
    "        texts.append(text)\n",
    "    content = []\n",
    "    for t in texts:\n",
    "        if t[0]!=\"\":\n",
    "            content.append(t[0].replace('\\xa0', \" \"))    \n",
    "\n",
    "    content = shuffle(content)\n",
    "    content = content[:N]\n",
    "    label = [2 for i in range(len(content))]\n",
    "    datatrue = pd.DataFrame({'Content':content,\n",
    "             'Label': label})\n",
    "    Xdata = pd.concat([datatrue, datafake]).reset_index(drop = True)\n",
    "    Xdata = shuffle(Xdata).reset_index(drop = True)\n",
    "    #print(Xdata.head(4))\n",
    "    return Xdata\n",
    "\n",
    "def classifier(X, Y):\n",
    "    count_vect = CountVectorizer()\n",
    "    tfidf_transformer = TfidfTransformer()\n",
    "\n",
    "    X = count_vect.fit_transform(X)\n",
    "    X = tfidf_transformer.fit_transform(X)\n",
    "\n",
    "    X_train, X_test, y_train, y_test = train_test_split(X.toarray(), Y, test_size=0.35, random_state=0)\n",
    "\n",
    "    gnb = GaussianNB()\n",
    "    clf = gnb.fit(X_train, y_train)\n",
    "    print(\"score:\" ,clf.score(X_test, y_test))\n",
    "    return(clf, X_test, y_test)\n",
    "    "
   ]
  },
  {
   "cell_type": "markdown",
   "metadata": {},
   "source": [
    "# fakes, half-fakes, truth\n",
    "### hard negative, N = 500"
   ]
  },
  {
   "cell_type": "code",
   "execution_count": 63,
   "metadata": {},
   "outputs": [
    {
     "data": {
      "application/vnd.jupyter.widget-view+json": {
       "model_id": "503db8dbb9724d19980c178cfb204267",
       "version_major": 2,
       "version_minor": 0
      },
      "text/plain": [
       "HBox(children=(IntProgress(value=0, max=718), HTML(value='')))"
      ]
     },
     "metadata": {},
     "output_type": "display_data"
    },
    {
     "name": "stdout",
     "output_type": "stream",
     "text": [
      "score: 0.7658730158730159\n",
      "              precision    recall  f1-score   support\n",
      "\n",
      "        fake       0.62      0.22      0.33        58\n",
      "   half-fake       0.33      0.12      0.18         8\n",
      "       truth       0.79      0.96      0.86       186\n",
      "\n",
      "   micro avg       0.77      0.77      0.77       252\n",
      "   macro avg       0.58      0.44      0.46       252\n",
      "weighted avg       0.73      0.77      0.72       252\n",
      "\n"
     ]
    }
   ],
   "source": [
    "conn = sqlite3.connect(\"hard_database.db\") \n",
    "cursor = conn.cursor()\n",
    "Xdata_hard = get_data(cursor, datafake, N = 500)\n",
    "Xdata_hard.head(4)\n",
    "Xhard = processing(Xdata_hard)\n",
    "Yhard = Xdata_hard['Label']\n",
    "clf,  X_test, y_test = classifier(Xhard,Yhard)\n",
    "y_pred =clf.predict(X_test)\n",
    "#metrics(y_pred, y_test)\n",
    "report = classification_report(y_test, y_pred, target_names=['fake', 'half-fake', 'truth'])\n",
    "print(report)"
   ]
  },
  {
   "cell_type": "code",
   "execution_count": null,
   "metadata": {},
   "outputs": [],
   "source": []
  },
  {
   "cell_type": "markdown",
   "metadata": {},
   "source": [
    "### negative , N = 500"
   ]
  },
  {
   "cell_type": "code",
   "execution_count": 27,
   "metadata": {},
   "outputs": [
    {
     "data": {
      "application/vnd.jupyter.widget-view+json": {
       "model_id": "8c3ceb3a1e984fb59b31dcbf922a86c0",
       "version_major": 2,
       "version_minor": 0
      },
      "text/plain": [
       "HBox(children=(IntProgress(value=0, max=718), HTML(value='')))"
      ]
     },
     "metadata": {},
     "output_type": "display_data"
    },
    {
     "name": "stdout",
     "output_type": "stream",
     "text": [
      "\n",
      "score: 0.7857142857142857\n",
      "              precision    recall  f1-score   support\n",
      "\n",
      "        fake       0.70      0.36      0.48        58\n",
      "   half-fake       1.00      0.08      0.14        13\n",
      "       truth       0.80      0.97      0.88       181\n",
      "\n",
      "   micro avg       0.79      0.79      0.79       252\n",
      "   macro avg       0.83      0.47      0.50       252\n",
      "weighted avg       0.78      0.79      0.75       252\n",
      "\n"
     ]
    }
   ],
   "source": [
    "conn = sqlite3.connect(\"negative_database.db\") \n",
    "cursor = conn.cursor()\n",
    "\n",
    "Xdata = get_data(cursor, datafake, N = 500)\n",
    "Xdata.head(4)\n",
    "X = processing(Xdata)\n",
    "Y = Xdata['Label']\n",
    "clf,  X_test, y_test = classifier(X,Y)\n",
    "y_pred =clf.predict(X_test)\n",
    "#metrics(y_pred, y_test)\n",
    "report = classification_report(y_test, y_pred, target_names=['fake', 'half-fake', 'truth'])\n",
    "print(report)"
   ]
  },
  {
   "cell_type": "markdown",
   "metadata": {},
   "source": [
    "### hard negative N = 300"
   ]
  },
  {
   "cell_type": "code",
   "execution_count": 47,
   "metadata": {},
   "outputs": [
    {
     "data": {
      "application/vnd.jupyter.widget-view+json": {
       "model_id": "33697c7b71fd471fbdc8f9e672e2b06e",
       "version_major": 2,
       "version_minor": 0
      },
      "text/plain": [
       "HBox(children=(IntProgress(value=0, max=518), HTML(value='')))"
      ]
     },
     "metadata": {},
     "output_type": "display_data"
    },
    {
     "name": "stdout",
     "output_type": "stream",
     "text": [
      "score: 0.6373626373626373\n",
      "              precision    recall  f1-score   support\n",
      "\n",
      "        fake       0.58      0.29      0.38        63\n",
      "   half-fake       0.67      0.15      0.25        13\n",
      "       truth       0.65      0.91      0.76       106\n",
      "\n",
      "   micro avg       0.64      0.64      0.64       182\n",
      "   macro avg       0.63      0.45      0.46       182\n",
      "weighted avg       0.63      0.64      0.59       182\n",
      "\n"
     ]
    }
   ],
   "source": [
    "conn = sqlite3.connect(\"hard_database.db\") \n",
    "cursor = conn.cursor()\n",
    "Xdata_hard = get_data(cursor, datafake, N = 300)\n",
    "Xdata_hard.head(4)\n",
    "Xhard = processing(Xdata_hard)\n",
    "Yhard = Xdata_hard['Label']\n",
    "clf,  X_test, y_test = classifier(Xhard,Yhard)\n",
    "y_pred =clf.predict(X_test)\n",
    "#metrics(y_pred, y_test)\n",
    "report = classification_report(y_test, y_pred, target_names=['fake', 'half-fake', 'truth'])\n",
    "print(report)"
   ]
  },
  {
   "cell_type": "code",
   "execution_count": null,
   "metadata": {},
   "outputs": [],
   "source": []
  },
  {
   "cell_type": "markdown",
   "metadata": {},
   "source": [
    "### negative N = 300"
   ]
  },
  {
   "cell_type": "code",
   "execution_count": 43,
   "metadata": {},
   "outputs": [
    {
     "data": {
      "application/vnd.jupyter.widget-view+json": {
       "model_id": "dd241e0593434029bbb7e16f8ef6b536",
       "version_major": 2,
       "version_minor": 0
      },
      "text/plain": [
       "HBox(children=(IntProgress(value=0, max=518), HTML(value='')))"
      ]
     },
     "metadata": {},
     "output_type": "display_data"
    },
    {
     "name": "stdout",
     "output_type": "stream",
     "text": [
      "score: 0.6923076923076923\n",
      "              precision    recall  f1-score   support\n",
      "\n",
      "        fake       0.74      0.44      0.55        66\n",
      "   half-fake       0.60      0.21      0.32        14\n",
      "       truth       0.68      0.92      0.78       102\n",
      "\n",
      "   micro avg       0.69      0.69      0.69       182\n",
      "   macro avg       0.67      0.53      0.55       182\n",
      "weighted avg       0.70      0.69      0.66       182\n",
      "\n"
     ]
    }
   ],
   "source": [
    "conn = sqlite3.connect(\"negative_database.db\") \n",
    "cursor = conn.cursor()\n",
    "\n",
    "Xdata = get_data(cursor, datafake, N = 300)\n",
    "Xdata.head(4)\n",
    "X = processing(Xdata)\n",
    "Y = Xdata['Label']\n",
    "clf,  X_test, y_test = classifier(X,Y)\n",
    "y_pred =clf.predict(X_test)\n",
    "#metrics(y_pred, y_test)\n",
    "report = classification_report(y_test, y_pred, target_names=['fake', 'half-fake', 'truth'])\n",
    "print(report)"
   ]
  },
  {
   "cell_type": "markdown",
   "metadata": {},
   "source": [
    "### hard negative N = 800"
   ]
  },
  {
   "cell_type": "code",
   "execution_count": 41,
   "metadata": {},
   "outputs": [
    {
     "data": {
      "application/vnd.jupyter.widget-view+json": {
       "model_id": "938d8466954844a1bdf0f3f4bc2e699e",
       "version_major": 2,
       "version_minor": 0
      },
      "text/plain": [
       "HBox(children=(IntProgress(value=0, max=1018), HTML(value='')))"
      ]
     },
     "metadata": {},
     "output_type": "display_data"
    },
    {
     "name": "stdout",
     "output_type": "stream",
     "text": [
      "score: 0.8095238095238095\n",
      "              precision    recall  f1-score   support\n",
      "\n",
      "        fake       0.67      0.16      0.26        61\n",
      "   half-fake       0.00      0.00      0.00        13\n",
      "       truth       0.82      0.99      0.89       283\n",
      "\n",
      "   micro avg       0.81      0.81      0.81       357\n",
      "   macro avg       0.49      0.38      0.39       357\n",
      "weighted avg       0.76      0.81      0.75       357\n",
      "\n"
     ]
    }
   ],
   "source": [
    "conn = sqlite3.connect(\"hard_database.db\") \n",
    "cursor = conn.cursor()\n",
    "Xdata_hard = get_data(cursor, datafake, N = 800)\n",
    "Xdata_hard.head(4)\n",
    "Xhard = processing(Xdata_hard)\n",
    "Yhard = Xdata_hard['Label']\n",
    "clf,  X_test, y_test = classifier(Xhard,Yhard)\n",
    "y_pred =clf.predict(X_test)\n",
    "#metrics(y_pred, y_test)\n",
    "report = classification_report(y_test, y_pred, target_names=['fake', 'half-fake', 'truth'])\n",
    "print(report)"
   ]
  },
  {
   "cell_type": "code",
   "execution_count": null,
   "metadata": {},
   "outputs": [],
   "source": []
  },
  {
   "cell_type": "markdown",
   "metadata": {},
   "source": [
    "### negative N = 800"
   ]
  },
  {
   "cell_type": "code",
   "execution_count": 48,
   "metadata": {
    "scrolled": true
   },
   "outputs": [
    {
     "data": {
      "application/vnd.jupyter.widget-view+json": {
       "model_id": "689f563a4b964ed38dd673a76e3f4755",
       "version_major": 2,
       "version_minor": 0
      },
      "text/plain": [
       "HBox(children=(IntProgress(value=0, max=1018), HTML(value='')))"
      ]
     },
     "metadata": {},
     "output_type": "display_data"
    },
    {
     "name": "stdout",
     "output_type": "stream",
     "text": [
      "score: 0.8263305322128851\n",
      "              precision    recall  f1-score   support\n",
      "\n",
      "        fake       0.79      0.22      0.34        51\n",
      "   half-fake       0.50      0.05      0.08        22\n",
      "       truth       0.83      1.00      0.91       284\n",
      "\n",
      "   micro avg       0.83      0.83      0.83       357\n",
      "   macro avg       0.71      0.42      0.44       357\n",
      "weighted avg       0.80      0.83      0.77       357\n",
      "\n"
     ]
    }
   ],
   "source": [
    "conn = sqlite3.connect(\"negative_database.db\") \n",
    "cursor = conn.cursor()\n",
    "\n",
    "Xdata = get_data(cursor, datafake, N = 800)\n",
    "Xdata.head(4)\n",
    "X = processing(Xdata)\n",
    "Y = Xdata['Label']\n",
    "clf,  X_test, y_test = classifier(X,Y)\n",
    "y_pred =clf.predict(X_test)\n",
    "#metrics(y_pred, y_test)\n",
    "report = classification_report(y_test, y_pred, target_names=['fake', 'half-fake', 'truth'])\n",
    "\n",
    "print(report)"
   ]
  },
  {
   "cell_type": "markdown",
   "metadata": {},
   "source": [
    "## F1"
   ]
  },
  {
   "cell_type": "code",
   "execution_count": 49,
   "metadata": {},
   "outputs": [
    {
     "name": "stdout",
     "output_type": "stream",
     "text": [
      "174\n"
     ]
    },
    {
     "data": {
      "text/plain": [
       "Text(0.5, 0, 'Ntrue:Nfake')"
      ]
     },
     "execution_count": 49,
     "metadata": {},
     "output_type": "execute_result"
    },
    {
     "data": {
      "image/png": "[encoded data removed]",
      "text/plain": [
       "<Figure size 432x288 with 1 Axes>"
      ]
     },
     "metadata": {
      "needs_background": "light"
     },
     "output_type": "display_data"
    }
   ],
   "source": [
    "Nfake = len(data[data['Label']==0])\n",
    "print(Nfake)\n",
    "n  = np.array([200,300,500,800])\n",
    "\n",
    "x =  n / Nfake\n",
    "y_f_h = [0.57,0.59,0.67,0.71]\n",
    "y_f  = [0.63,0.68,0.71,0.77]\n",
    "fig, ax = plt.subplots()\n",
    "ax.plot(x, y_f,color = 'red', label = \"negative\")\n",
    "ax.plot(x, y_f_h,color = 'blue',linestyle='dashed', label = \"hard negative\")\n",
    "ax.legend()\n",
    "plt.title('F1')\n",
    "ax.set_ylabel(\"F\")\n",
    "\n",
    "ax.set_xlabel(\"Ntrue:Nfake\")"
   ]
  },
  {
   "cell_type": "markdown",
   "metadata": {},
   "source": [
    "## Recall for Label \"fake\""
   ]
  },
  {
   "cell_type": "code",
   "execution_count": 64,
   "metadata": {},
   "outputs": [
    {
     "data": {
      "text/plain": [
       "Text(0.5, 0, 'Ntrue:Nfake')"
      ]
     },
     "execution_count": 64,
     "metadata": {},
     "output_type": "execute_result"
    },
    {
     "data": {
      "image/png": "[encoded data removed]",
      "text/plain": [
       "<Figure size 432x288 with 1 Axes>"
      ]
     },
     "metadata": {
      "needs_background": "light"
     },
     "output_type": "display_data"
    }
   ],
   "source": [
    "Nfake = len(data[data['Label']==0])\n",
    "#print(Nfake)\n",
    "n  = np.array([200,300,500,800])\n",
    "\n",
    "x =  n / Nfake\n",
    "y_r_h = [0.29,0.22,0.18,0.16]\n",
    "y_r  = [0.56,0.44,0.36,0.22]\n",
    "fig, ax = plt.subplots()\n",
    "ax.plot(x, y_r,color = 'red', label = \"negative\")\n",
    "ax.plot(x, y_r_h,color = 'blue',linestyle='dashed', label = \"hard negative\")\n",
    "ax.legend()\n",
    "plt.title(\"Recall for 'fake' label\")\n",
    "ax.set_ylabel(\"Recall\")\n",
    "\n",
    "ax.set_xlabel(\"Ntrue:Nfake\")"
   ]
  },
  {
   "cell_type": "code",
   "execution_count": null,
   "metadata": {},
   "outputs": [],
   "source": []
  },
  {
   "cell_type": "code",
   "execution_count": null,
   "metadata": {},
   "outputs": [],
   "source": []
  },
  {
   "cell_type": "markdown",
   "metadata": {},
   "source": [
    "# Fakes, truth (бинарная классификация)"
   ]
  },
  {
   "cell_type": "code",
   "execution_count": 55,
   "metadata": {},
   "outputs": [
    {
     "data": {
      "text/html": [
       "<div>\n",
       "<style scoped>\n",
       "    .dataframe tbody tr th:only-of-type {\n",
       "        vertical-align: middle;\n",
       "    }\n",
       "\n",
       "    .dataframe tbody tr th {\n",
       "        vertical-align: top;\n",
       "    }\n",
       "\n",
       "    .dataframe thead th {\n",
       "        text-align: right;\n",
       "    }\n",
       "</style>\n",
       "<table border=\"1\" class=\"dataframe\">\n",
       "  <thead>\n",
       "    <tr style=\"text-align: right;\">\n",
       "      <th></th>\n",
       "      <th>Content</th>\n",
       "      <th>Label</th>\n",
       "    </tr>\n",
       "  </thead>\n",
       "  <tbody>\n",
       "    <tr>\n",
       "      <th>0</th>\n",
       "      <td>Нью-йоркский ресторан Lucy's Cantina Royale бу...</td>\n",
       "      <td>0</td>\n",
       "    </tr>\n",
       "    <tr>\n",
       "      <th>1</th>\n",
       "      <td>Бывший глава британской разведки МИ-6 Джон Ска...</td>\n",
       "      <td>0</td>\n",
       "    </tr>\n",
       "    <tr>\n",
       "      <th>2</th>\n",
       "      <td>Нобелевский лауреат по литературе Светлана Але...</td>\n",
       "      <td>0</td>\n",
       "    </tr>\n",
       "    <tr>\n",
       "      <th>3</th>\n",
       "      <td>Большинство участников опроса, размещенного на...</td>\n",
       "      <td>0</td>\n",
       "    </tr>\n",
       "  </tbody>\n",
       "</table>\n",
       "</div>"
      ],
      "text/plain": [
       "                                             Content  Label\n",
       "0  Нью-йоркский ресторан Lucy's Cantina Royale бу...      0\n",
       "1  Бывший глава британской разведки МИ-6 Джон Ска...      0\n",
       "2  Нобелевский лауреат по литературе Светлана Але...      0\n",
       "3  Большинство участников опроса, размещенного на...      0"
      ]
     },
     "execution_count": 55,
     "metadata": {},
     "output_type": "execute_result"
    }
   ],
   "source": [
    "datafake2 = data[[\"Content\", \"Label\"]]\n",
    "#delete half-truth\n",
    "datafake2 = datafake[datafake['Label']!=1]\n",
    "datafake2.head(4)"
   ]
  },
  {
   "cell_type": "markdown",
   "metadata": {},
   "source": [
    "### hard negative\n"
   ]
  },
  {
   "cell_type": "code",
   "execution_count": 59,
   "metadata": {},
   "outputs": [
    {
     "data": {
      "application/vnd.jupyter.widget-view+json": {
       "model_id": "873418550e2f407da89f438c93579edf",
       "version_major": 2,
       "version_minor": 0
      },
      "text/plain": [
       "HBox(children=(IntProgress(value=0, max=675), HTML(value='')))"
      ]
     },
     "metadata": {},
     "output_type": "display_data"
    },
    {
     "name": "stdout",
     "output_type": "stream",
     "text": [
      "score: 0.7679324894514767\n",
      "Label: 0\n",
      "Precission = 0.7\n",
      "Recall = 0.119\n",
      "F = 0.203\n",
      "\n",
      "Label: 2\n",
      "Precission = 0.771\n",
      "Recall = 0.983\n",
      "F = 0.864\n",
      "\n",
      "              precision    recall  f1-score   support\n",
      "\n",
      "        fake       0.70      0.12      0.20        59\n",
      "       truth       0.77      0.98      0.86       178\n",
      "\n",
      "   micro avg       0.77      0.77      0.77       237\n",
      "   macro avg       0.74      0.55      0.53       237\n",
      "weighted avg       0.75      0.77      0.70       237\n",
      "\n"
     ]
    }
   ],
   "source": [
    "conn = sqlite3.connect(\"hard_database.db\") \n",
    "cursor = conn.cursor()\n",
    "Xdata_hard = get_data(cursor, datafake2, N = 500)\n",
    "Xdata_hard.head(4)\n",
    "Xhard = processing(Xdata_hard)\n",
    "Yhard = Xdata_hard['Label']\n",
    "clf,  X_test, y_test = classifier(Xhard,Yhard)\n",
    "y_pred =clf.predict(X_test)\n",
    "metrics(y_pred, y_test)\n",
    "report = classification_report(y_test, y_pred, target_names=['fake', 'truth'])\n",
    "print(report)"
   ]
  },
  {
   "cell_type": "code",
   "execution_count": 61,
   "metadata": {},
   "outputs": [
    {
     "name": "stdout",
     "output_type": "stream",
     "text": [
      "{'fake': {'precision': 0.875, 'recall': 0.3181818181818182, 'f1-score': 0.4666666666666667, 'support': 66}, 'truth': {'precision': 0.7887323943661971, 'recall': 0.9824561403508771, 'f1-score': 0.875, 'support': 171}, 'micro avg': {'precision': 0.7974683544303798, 'recall': 0.7974683544303798, 'f1-score': 0.7974683544303798, 'support': 237}, 'macro avg': {'precision': 0.8318661971830985, 'recall': 0.6503189792663476, 'f1-score': 0.6708333333333334, 'support': 237}, 'weighted avg': {'precision': 0.8127562845426992, 'recall': 0.7974683544303798, 'f1-score': 0.7612869198312237, 'support': 237}}\n"
     ]
    }
   ],
   "source": [
    "report = classification_report(y_test, y_pred, target_names=['fake', 'truth'], output_dict = True)\n",
    "print(report)"
   ]
  },
  {
   "cell_type": "code",
   "execution_count": null,
   "metadata": {},
   "outputs": [],
   "source": []
  },
  {
   "cell_type": "markdown",
   "metadata": {},
   "source": [
    "## negative"
   ]
  },
  {
   "cell_type": "code",
   "execution_count": 65,
   "metadata": {},
   "outputs": [
    {
     "data": {
      "application/vnd.jupyter.widget-view+json": {
       "model_id": "d57a865bd97b45f0b4bdc74ca3bfed84",
       "version_major": 2,
       "version_minor": 0
      },
      "text/plain": [
       "HBox(children=(IntProgress(value=0, max=675), HTML(value='')))"
      ]
     },
     "metadata": {},
     "output_type": "display_data"
    },
    {
     "name": "stdout",
     "output_type": "stream",
     "text": [
      "score: 0.7637130801687764\n",
      "              precision    recall  f1-score   support\n",
      "\n",
      "        fake       0.61      0.18      0.28        60\n",
      "       truth       0.78      0.96      0.86       177\n",
      "\n",
      "   micro avg       0.76      0.76      0.76       237\n",
      "   macro avg       0.69      0.57      0.57       237\n",
      "weighted avg       0.73      0.76      0.71       237\n",
      "\n"
     ]
    }
   ],
   "source": [
    "conn = sqlite3.connect(\"negative_database.db\") \n",
    "cursor = conn.cursor()\n",
    "\n",
    "Xdata = get_data(cursor, datafake2, N = 500)\n",
    "Xdata.head(4)\n",
    "X = processing(Xdata)\n",
    "Y = Xdata['Label']\n",
    "clf,  X_test, y_test = classifier(X,Y)\n",
    "y_pred =clf.predict(X_test)\n",
    "report = classification_report(y_test, y_pred, target_names=['fake',  'truth'])\n",
    "print((report))"
   ]
  },
  {
   "cell_type": "code",
   "execution_count": null,
   "metadata": {},
   "outputs": [],
   "source": []
  },
  {
   "cell_type": "code",
   "execution_count": null,
   "metadata": {},
   "outputs": [],
   "source": []
  },
  {
   "cell_type": "code",
   "execution_count": null,
   "metadata": {},
   "outputs": [],
   "source": []
  },
  {
   "cell_type": "code",
   "execution_count": null,
   "metadata": {},
   "outputs": [],
   "source": []
  }
 ],
 "metadata": {
  "kernelspec": {
   "display_name": "Python 3",
   "language": "python",
   "name": "python3"
  },
  "language_info": {
   "codemirror_mode": {
    "name": "ipython",
    "version": 3
   },
   "file_extension": ".py",
   "mimetype": "text/x-python",
   "name": "python",
   "nbconvert_exporter": "python",
   "pygments_lexer": "ipython3",
   "version": "3.7.3"
  }
 },
 "nbformat": 4,
 "nbformat_minor": 2
}
